{
 "cells": [
  {
   "cell_type": "code",
   "execution_count": 2,
   "outputs": [
    {
     "name": "stderr",
     "output_type": "stream",
     "text": [
      "/opt/anaconda3/lib/python3.11/site-packages/keras/src/layers/convolutional/base_conv.py:107: UserWarning: Do not pass an `input_shape`/`input_dim` argument to a layer. When using Sequential models, prefer using an `Input(shape)` object as the first layer in the model instead.\n",
      "  super().__init__(activity_regularizer=activity_regularizer, **kwargs)\n",
      "WARNING:absl:Compiled the loaded model, but the compiled metrics have yet to be built. `model.compile_metrics` will be empty until you train or evaluate the model.\n",
      "WARNING:absl:Error in loading the saved optimizer state. As a result, your model is starting with a freshly initialized optimizer.\n"
     ]
    },
    {
     "name": "stdout",
     "output_type": "stream",
     "text": [
      "\u001B[1m1/1\u001B[0m \u001B[32m━━━━━━━━━━━━━━━━━━━━\u001B[0m\u001B[37m\u001B[0m \u001B[1m0s\u001B[0m 50ms/step\n",
      "X\n"
     ]
    }
   ],
   "source": [
    "import numpy as np\n",
    "import cv2\n",
    "from PIL import Image\n",
    "import tensorflow as tf\n",
    "\n",
    "drawing = False\n",
    "ix, iy = -1, -1\n",
    "\n",
    "def button():\n",
    "    cv2.rectangle(image, (2, 2), (82, 40), 3)\n",
    "    cv2.putText(image, \"Clear\", (2, 35), cv2.FONT_HERSHEY_SIMPLEX, 1, (0, 0, 0))\n",
    "    cv2.rectangle(image, (87, 2), (160, 40), 3)\n",
    "    cv2.putText(image, \"Save\", (87, 35), cv2.FONT_HERSHEY_SIMPLEX, 1, (0, 0, 0))\n",
    "\n",
    "def draw_canvas():\n",
    "    cv2.setMouseCallback(title, draw_circle)\n",
    "    while True:\n",
    "         cv2.imshow(title, image)\n",
    "         k = cv2.waitKey(1) & 0xFF\n",
    "         if k == 27:\n",
    "            break\n",
    "\n",
    "def draw_circle(event, x, y, flags, param):\n",
    "    global ix, iy, drawing\n",
    "\n",
    "    if event == cv2.EVENT_LBUTTONDOWN:\n",
    "        drawing = True\n",
    "        ix, iy = x, y\n",
    "\n",
    "    if event == cv2.EVENT_MOUSEMOVE:\n",
    "        if drawing == True:\n",
    "            ix, iy = x, y\n",
    "            cv2.circle(image, (x, y), 5, (0, 0, 0), -1)\n",
    "\n",
    "    elif event == cv2.EVENT_LBUTTONUP:\n",
    "        drawing = False\n",
    "        cv2.circle(image, (x, y), 5, (0, 0, 0), -1)\n",
    "\n",
    "def save_t():\n",
    "    image_copy = cv2.cvtColor(image, cv2.COLOR_BGR2GRAY)\n",
    "    image_list = []\n",
    "    image_data = cv2.resize(image_copy, (300, 300))\n",
    "    image_array = np.array(image_data) / 255.0\n",
    "    image_list.append(image_array)\n",
    "    image_data = np.array(image_list)\n",
    "    return image_data\n",
    "\n",
    "def order(event, x, y, flags, param):\n",
    "    if event == cv2.EVENT_LBUTTONDOWN and (2<x<82 and 2<y<40):\n",
    "        print(\"Clear\")\n",
    "        cv2.destroyAllWindows()\n",
    "    elif  event == cv2.EVENT_LBUTTONDOWN and (87<x<160 and 2<y<40):\n",
    "        if pred == 0:\n",
    "            print(\"X\")\n",
    "            cv2.putText(image, \"Prediction = 'X'\", (50, 50), cv2.FONT_HERSHEY_PLAIN, 1, (0, 0, 0))\n",
    "            cv2.imshow(title, image)\n",
    "        elif pred == 1:\n",
    "            print(\"O\")\n",
    "            cv2.putText(image, \"Prediction = 'O'\", (50, 50), cv2.FONT_HERSHEY_PLAIN, 1, (0, 0, 0))\n",
    "            cv2.imshow(title, image)\n",
    "\n",
    "if __name__ == \"__main__\":\n",
    "    model = tf.keras.models.load_model(\"/Users/sihoon/Desktop/OX_TEMP/fold_1_OX_Classification.h5\")\n",
    "    image_path = \"/Users/sihoon/Desktop/OX_TEMP/canvas.png\"\n",
    "\n",
    "image = cv2.imread(image_path)\n",
    "title = \"OX_Classification\"\n",
    "cv2.namedWindow(title)\n",
    "cv2.moveWindow(title, 500, 500)\n",
    "button()\n",
    "cv2.imshow(title, image)\n",
    "\n",
    "draw_canvas()\n",
    "\n",
    "pred = np.argmax(model.predict(save_t()), axis=-1)\n",
    "cv2.setMouseCallback(title, order)\n",
    "cv2.waitKey(0)\n",
    "cv2.destroyAllWindows()"
   ],
   "metadata": {
    "collapsed": false
   }
  },
  {
   "cell_type": "code",
   "execution_count": 8,
   "outputs": [
    {
     "name": "stderr",
     "output_type": "stream",
     "text": [
      "WARNING:absl:Compiled the loaded model, but the compiled metrics have yet to be built. `model.compile_metrics` will be empty until you train or evaluate the model.\n",
      "WARNING:absl:Error in loading the saved optimizer state. As a result, your model is starting with a freshly initialized optimizer.\n"
     ]
    },
    {
     "name": "stdout",
     "output_type": "stream",
     "text": [
      "\u001B[1m1/1\u001B[0m \u001B[32m━━━━━━━━━━━━━━━━━━━━\u001B[0m\u001B[37m\u001B[0m \u001B[1m0s\u001B[0m 54ms/step\n",
      "O\n"
     ]
    }
   ],
   "source": [
    "import numpy as np\n",
    "import cv2\n",
    "from PIL import Image\n",
    "import tensorflow as tf\n",
    "\n",
    "drawing = False\n",
    "ix, iy = -1, -1\n",
    "\n",
    "def button():\n",
    "    cv2.rectangle(image, (2, 2), (82, 40), 3)\n",
    "    cv2.putText(image, \"Clear\", (2, 35), cv2.FONT_HERSHEY_SIMPLEX, 1, (0, 0, 0))\n",
    "    cv2.rectangle(image, (87, 2), (160, 40), 3)\n",
    "    cv2.putText(image, \"Save\", (87, 35), cv2.FONT_HERSHEY_SIMPLEX, 1, (0, 0, 0))\n",
    "\n",
    "def draw_canvas():\n",
    "    cv2.setMouseCallback(title, draw_circle)\n",
    "    while True:\n",
    "         cv2.imshow(title, image)\n",
    "         k = cv2.waitKey(1) & 0xFF\n",
    "         if k == 27:\n",
    "            break\n",
    "\n",
    "def draw_circle(event, x, y, flags, param):\n",
    "    global ix, iy, drawing\n",
    "\n",
    "    if event == cv2.EVENT_LBUTTONDOWN:\n",
    "        drawing = True\n",
    "        ix, iy = x, y\n",
    "\n",
    "    if event == cv2.EVENT_MOUSEMOVE:\n",
    "        if drawing == True:\n",
    "            ix, iy = x, y\n",
    "            cv2.circle(image, (x, y), 5, (0, 0, 0), -1)\n",
    "\n",
    "    elif event == cv2.EVENT_LBUTTONUP:\n",
    "        drawing = False\n",
    "        cv2.circle(image, (x, y), 5, (0, 0, 0), -1)\n",
    "\n",
    "def save_t():\n",
    "    image_copy = cv2.cvtColor(image, cv2.COLOR_BGR2GRAY)\n",
    "    image_list = []\n",
    "    image_data = cv2.resize(image_copy, (300, 300))\n",
    "    image_array = np.array(image_data) / 255.0\n",
    "    image_list.append(image_array)\n",
    "    image_data = np.array(image_list)\n",
    "    return image_data\n",
    "\n",
    "def order(event, x, y, flags, param):\n",
    "    if event == cv2.EVENT_LBUTTONDOWN and (2<x<82 and 2<y<40):\n",
    "        print(\"Clear\")\n",
    "        cv2.destroyAllWindows()\n",
    "    elif  event == cv2.EVENT_LBUTTONDOWN and (87<x<160 and 2<y<40):\n",
    "        if pred == 0:\n",
    "            print(\"X\")\n",
    "            cv2.putText(image, \"Prediction = 'X'\", (50, 50), cv2.FONT_HERSHEY_PLAIN, 1, (0, 0, 0))\n",
    "            cv2.imshow(title, image)\n",
    "        elif pred == 1:\n",
    "            print(\"O\")\n",
    "            cv2.putText(image, \"Prediction = 'O'\", (50, 50), cv2.FONT_HERSHEY_PLAIN, 1, (0, 0, 0))\n",
    "            cv2.imshow(title, image)\n",
    "\n",
    "if __name__ == \"__main__\":\n",
    "    model = tf.keras.models.load_model(\"/Users/sihoon/Desktop/OX_TEMP/fold_1_OX_Classification.h5\")\n",
    "    image_path = \"/Users/sihoon/Desktop/OX_TEMP/canvas.png\"\n",
    "\n",
    "image = cv2.imread(image_path)\n",
    "title = \"OX_Classification\"\n",
    "cv2.namedWindow(title)\n",
    "cv2.moveWindow(title, 500, 500)\n",
    "button()\n",
    "cv2.imshow(title, image)\n",
    "\n",
    "draw_canvas()\n",
    "\n",
    "pred = np.argmax(model.predict(save_t()), axis=-1)\n",
    "cv2.setMouseCallback(title, order)\n",
    "cv2.waitKey(0)\n",
    "cv2.destroyAllWindows()"
   ],
   "metadata": {
    "collapsed": false
   }
  },
  {
   "cell_type": "code",
   "execution_count": 3,
   "outputs": [],
   "source": [
    "import numpy as np\n",
    "import cv2\n",
    "\n",
    "image = np.full((200, 300), 255, np.uint8)\n",
    "title = \"OX_Classification\"\n",
    "cv2.imshow(title, image)\n",
    "\n",
    "cv2.waitKey(0)\n",
    "cv2.destroyAllWindows()"
   ],
   "metadata": {
    "collapsed": false
   }
  },
  {
   "cell_type": "code",
   "execution_count": null,
   "outputs": [],
   "source": [],
   "metadata": {
    "collapsed": false
   }
  }
 ],
 "metadata": {
  "kernelspec": {
   "display_name": "Python 3",
   "language": "python",
   "name": "python3"
  },
  "language_info": {
   "codemirror_mode": {
    "name": "ipython",
    "version": 2
   },
   "file_extension": ".py",
   "mimetype": "text/x-python",
   "name": "python",
   "nbconvert_exporter": "python",
   "pygments_lexer": "ipython2",
   "version": "2.7.6"
  }
 },
 "nbformat": 4,
 "nbformat_minor": 0
}
